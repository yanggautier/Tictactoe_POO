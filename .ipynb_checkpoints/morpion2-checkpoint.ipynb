{
 "cells": [
  {
   "cell_type": "markdown",
   "metadata": {},
   "source": [
    "Le Morpion, également appelé Tic-Tac-Toe se joue sur une grille carrée de 3x3 cases. Deux joueurs, vous et l'ordinateur s'affrontent. Ils doivent remplir chacun à leur tour une case de la grille avec le symbole qui leur est attribué : O ou X.\n",
    "\n",
    "Le gagnant est celui qui arrive à aligner trois symboles identiques, horizontalement, verticalement ou en diagonale."
   ]
  },
  {
   "cell_type": "code",
   "execution_count": 36,
   "metadata": {
    "ExecuteTime": {
     "end_time": "2020-06-12T13:09:12.042084Z",
     "start_time": "2020-06-12T13:09:12.012161Z"
    }
   },
   "outputs": [],
   "source": [
    "import random\n",
    "class Morpion:\n",
    "    def __init__ (self,length):\n",
    "        self.table = [[' ' for _ in range(length) ] for _ in range(length)]\n",
    "        self.h = length\n",
    "        self.w = length\n",
    "        \n",
    "    def isSecure(self, x,y):\n",
    "        return (self.h > x>=0) and (self.w > y >=0) and (self.table[x][y] == '')\n",
    "    \n",
    "    def update(self, x, y, player):\n",
    "        if self.isSecure(x,y) == False:\n",
    "            return False\n",
    "        else: \n",
    "            self.table[x][y] == player.label\n",
    "            return True\n",
    "    \n",
    "    def printTable(self):\n",
    "        for ligne in self.table:\n",
    "            print(ligne)\n",
    "        print()\n",
    "                \n",
    "    def isFull(self):\n",
    "        for array in self.table:\n",
    "            if ' ' in array: \n",
    "                return False\n",
    "        return True\n",
    "    \n",
    "    def randomPlay(self, player):\n",
    "        emptyCase = [(x,y) for x in range(self.h) for y in range(self.w) if self.table[x][y] == ' ']\n",
    "        x,y = random.choice(emptyCase)\n",
    "        self.table[x][y] = player.label\n",
    "    \n",
    "    def computerPlay(self, player1, player2):\n",
    "        liste_players = [player1, player2]\n",
    "        for player in liste_players:\n",
    "            \n",
    "            for i in range(self.h):\n",
    "                if (self.table[i].count(player.label) == self.h-1) and (' ' in self.table[i]):\n",
    "                    self.table[i][self.table[i].index(' ')] = player1.label\n",
    "                    return\n",
    "\n",
    "            for j in range(self.w):\n",
    "                colonnes = [row[j] for row in self.table]\n",
    "                if (colonnes.count(player.label) == self.h-1) and (' ' in colonnes):\n",
    "                    self.table[colonnes.index(' ')][j] = player1.label\n",
    "                    return\n",
    "\n",
    "            diagonal1 = [self.table[x][y] for x in range(self.h) for y in range(self.w) if x + y == (self.h-1)]\n",
    "            if(diagonal1.count(player.label) == self.h-1) and (' ' in diagonal1):\n",
    "                index = diagonal1.index(' ')\n",
    "                self.table[index][self.h-1-index] = player1.label\n",
    "                return\n",
    "\n",
    "            diagonal2 = [self.table[x][y] for x in range(self.h) for y in range(self.w) if x == y]\n",
    "            if(diagonal2.count(player.label) == self.h-1) and (' ' in diagonal2):\n",
    "                index = diagonal2.index(' ')\n",
    "                self.table[index][index] = player1.label\n",
    "                return\n",
    "        self.randomPlay(player1)\n",
    "        \n",
    "    def isWin(self, joueurs):\n",
    "        for joueur in joueurs:\n",
    "            for i in range(self.h):\n",
    "                if (self.table[i].count(joueur.label) == self.h):\n",
    "                    return joueur\n",
    "                \n",
    "            for j in range(self.w):\n",
    "                if ([row[j] for row in self.table].count(joueur.label) == self.w):\n",
    "                    return joueur\n",
    "                \n",
    "            diagonal1 = [self.table[x][y] for x in range(self.h) for y in range(self.w) if x + y == (self.h-1)]\n",
    "            if(diagonal1.count(joueur.label) == self.h):\n",
    "                return joueur\n",
    "            \n",
    "            diagonal2 = [self.table[x][y] for x in range(self.h) for y in range(self.w) if x == y]\n",
    "            if(diagonal2.count(joueur.label) == self.h):\n",
    "                return joueur\n",
    "            \n",
    "        return None"
   ]
  },
  {
   "cell_type": "code",
   "execution_count": 48,
   "metadata": {
    "ExecuteTime": {
     "end_time": "2020-06-12T13:16:05.233730Z",
     "start_time": "2020-06-12T13:16:05.218767Z"
    }
   },
   "outputs": [],
   "source": [
    "class Joueur:\n",
    "    def __init__(self,name, label, isComputer = True):\n",
    "        self.name = name\n",
    "        self.label = label\n",
    "        self.isComputer = isComputer\n",
    "        \n",
    "    \n",
    "    def inputUser(self, message, morpion):\n",
    "        while True:\n",
    "            try:\n",
    "                userInput = int(input(message))       \n",
    "            except ValueError:\n",
    "                print(\"Veuillez entrer un nombre entre 1 et 3 ! Essayez encore.\")\n",
    "                continue\n",
    "            if ((userInput <1) | (userInput > morpion.h)) :\n",
    "                print(\"Veuillez entrer un nombre entre 1 et 3 ! Essayez encore.\")\n",
    "                continue\n",
    "            else:\n",
    "                return userInput \n",
    "                break\n",
    "                \n",
    "    def inputCase(self, morpion):\n",
    "        \n",
    "        while True:\n",
    "            print(\"Veuillez entrer le numéro de la ligne\")\n",
    "            x = self.inputUser(\"Numéro de la ligne\", morpion)\n",
    "            print(\"Veuillez entrer le numéro de la ligne\")\n",
    "            y = self.inputUser(\"Numéro de la colonne\", morpion)\n",
    "            \n",
    "            if morpion.isSecure(morpion, x-1,y-1):\n",
    "                morpion.update(x-1,y-1, self)\n",
    "                return\n",
    "            else:\n",
    "                print(\"La case est déjà remplie, merci de réessayer! \")"
   ]
  },
  {
   "cell_type": "code",
   "execution_count": 45,
   "metadata": {
    "ExecuteTime": {
     "end_time": "2020-06-12T13:14:00.706380Z",
     "start_time": "2020-06-12T13:14:00.699426Z"
    }
   },
   "outputs": [],
   "source": [
    "def play(morpion, players):\n",
    "    while (morpion.isWin(players) is None) or (morpion.isFull() == False):\n",
    "        \n",
    "        liste_players = [[players[0], players[1]],[players[1], players[0]]]\n",
    "        for joueurs in liste_players:\n",
    "            morpion.printTable()\n",
    "            \n",
    "            if joueurs[0].isComputer == False:\n",
    "                joueurs[0].inputCase(morpion)\n",
    "            else: \n",
    "                morpion.computerPlay(joueurs[0], joueurs[1])\n",
    "                \n",
    "            if morpion.isFull():\n",
    "                morpion.printTable()\n",
    "                print('Match null')\n",
    "                return\n",
    "            winner = morpion.isWin(players)\n",
    "            if winner is not None:\n",
    "                morpion.printTable()\n",
    "                print(f'{winner.name}  a gagné')\n",
    "                return"
   ]
  },
  {
   "cell_type": "code",
   "execution_count": 49,
   "metadata": {
    "ExecuteTime": {
     "end_time": "2020-06-12T13:16:46.841073Z",
     "start_time": "2020-06-12T13:16:41.358446Z"
    }
   },
   "outputs": [
    {
     "name": "stdout",
     "output_type": "stream",
     "text": [
      "[' ', ' ', ' ']\n",
      "[' ', ' ', ' ']\n",
      "[' ', ' ', ' ']\n",
      "\n",
      "Veuillez entrer le numéro de la ligne\n",
      "Numéro de la ligne1\n",
      "Veuillez entrer le numéro de la ligne\n",
      "Numéro de la colonne1\n"
     ]
    },
    {
     "ename": "TypeError",
     "evalue": "isSecure() takes 3 positional arguments but 4 were given",
     "output_type": "error",
     "traceback": [
      "\u001b[1;31m---------------------------------------------------------------------------\u001b[0m",
      "\u001b[1;31mTypeError\u001b[0m                                 Traceback (most recent call last)",
      "\u001b[1;32m<ipython-input-49-a91d9713e601>\u001b[0m in \u001b[0;36m<module>\u001b[1;34m\u001b[0m\n\u001b[0;32m      3\u001b[0m \u001b[0mjoueur2\u001b[0m \u001b[1;33m=\u001b[0m \u001b[0mJoueur\u001b[0m\u001b[1;33m(\u001b[0m\u001b[1;34m\"Ordinateur\"\u001b[0m\u001b[1;33m,\u001b[0m\u001b[1;34m'O'\u001b[0m\u001b[1;33m,\u001b[0m \u001b[1;32mTrue\u001b[0m\u001b[1;33m)\u001b[0m\u001b[1;33m\u001b[0m\u001b[1;33m\u001b[0m\u001b[0m\n\u001b[0;32m      4\u001b[0m \u001b[0mplayers\u001b[0m \u001b[1;33m=\u001b[0m \u001b[1;33m[\u001b[0m\u001b[0mjoueur1\u001b[0m \u001b[1;33m,\u001b[0m\u001b[0mjoueur2\u001b[0m\u001b[1;33m]\u001b[0m\u001b[1;33m\u001b[0m\u001b[1;33m\u001b[0m\u001b[0m\n\u001b[1;32m----> 5\u001b[1;33m \u001b[0mplay\u001b[0m\u001b[1;33m(\u001b[0m\u001b[0mmorpion\u001b[0m\u001b[1;33m,\u001b[0m \u001b[0mplayers\u001b[0m\u001b[1;33m)\u001b[0m\u001b[1;33m\u001b[0m\u001b[1;33m\u001b[0m\u001b[0m\n\u001b[0m",
      "\u001b[1;32m<ipython-input-45-079d3f1918e8>\u001b[0m in \u001b[0;36mplay\u001b[1;34m(morpion, players)\u001b[0m\n\u001b[0;32m      7\u001b[0m \u001b[1;33m\u001b[0m\u001b[0m\n\u001b[0;32m      8\u001b[0m             \u001b[1;32mif\u001b[0m \u001b[0mjoueurs\u001b[0m\u001b[1;33m[\u001b[0m\u001b[1;36m0\u001b[0m\u001b[1;33m]\u001b[0m\u001b[1;33m.\u001b[0m\u001b[0misComputer\u001b[0m \u001b[1;33m==\u001b[0m \u001b[1;32mFalse\u001b[0m\u001b[1;33m:\u001b[0m\u001b[1;33m\u001b[0m\u001b[1;33m\u001b[0m\u001b[0m\n\u001b[1;32m----> 9\u001b[1;33m                 \u001b[0mjoueurs\u001b[0m\u001b[1;33m[\u001b[0m\u001b[1;36m0\u001b[0m\u001b[1;33m]\u001b[0m\u001b[1;33m.\u001b[0m\u001b[0minputCase\u001b[0m\u001b[1;33m(\u001b[0m\u001b[0mmorpion\u001b[0m\u001b[1;33m)\u001b[0m\u001b[1;33m\u001b[0m\u001b[1;33m\u001b[0m\u001b[0m\n\u001b[0m\u001b[0;32m     10\u001b[0m             \u001b[1;32melse\u001b[0m\u001b[1;33m:\u001b[0m\u001b[1;33m\u001b[0m\u001b[1;33m\u001b[0m\u001b[0m\n\u001b[0;32m     11\u001b[0m                 \u001b[0mmorpion\u001b[0m\u001b[1;33m.\u001b[0m\u001b[0mcomputerPlay\u001b[0m\u001b[1;33m(\u001b[0m\u001b[0mjoueurs\u001b[0m\u001b[1;33m[\u001b[0m\u001b[1;36m0\u001b[0m\u001b[1;33m]\u001b[0m\u001b[1;33m,\u001b[0m \u001b[0mjoueurs\u001b[0m\u001b[1;33m[\u001b[0m\u001b[1;36m1\u001b[0m\u001b[1;33m]\u001b[0m\u001b[1;33m)\u001b[0m\u001b[1;33m\u001b[0m\u001b[1;33m\u001b[0m\u001b[0m\n",
      "\u001b[1;32m<ipython-input-48-872af4dc42c9>\u001b[0m in \u001b[0;36minputCase\u001b[1;34m(self, morpion)\u001b[0m\n\u001b[0;32m     28\u001b[0m             \u001b[0my\u001b[0m \u001b[1;33m=\u001b[0m \u001b[0mself\u001b[0m\u001b[1;33m.\u001b[0m\u001b[0minputUser\u001b[0m\u001b[1;33m(\u001b[0m\u001b[1;34m\"Numéro de la colonne\"\u001b[0m\u001b[1;33m,\u001b[0m \u001b[0mmorpion\u001b[0m\u001b[1;33m)\u001b[0m\u001b[1;33m\u001b[0m\u001b[1;33m\u001b[0m\u001b[0m\n\u001b[0;32m     29\u001b[0m \u001b[1;33m\u001b[0m\u001b[0m\n\u001b[1;32m---> 30\u001b[1;33m             \u001b[1;32mif\u001b[0m \u001b[0mmorpion\u001b[0m\u001b[1;33m.\u001b[0m\u001b[0misSecure\u001b[0m\u001b[1;33m(\u001b[0m\u001b[0mmorpion\u001b[0m\u001b[1;33m,\u001b[0m \u001b[0mx\u001b[0m\u001b[1;33m-\u001b[0m\u001b[1;36m1\u001b[0m\u001b[1;33m,\u001b[0m\u001b[0my\u001b[0m\u001b[1;33m-\u001b[0m\u001b[1;36m1\u001b[0m\u001b[1;33m)\u001b[0m\u001b[1;33m:\u001b[0m\u001b[1;33m\u001b[0m\u001b[1;33m\u001b[0m\u001b[0m\n\u001b[0m\u001b[0;32m     31\u001b[0m                 \u001b[0mmorpion\u001b[0m\u001b[1;33m.\u001b[0m\u001b[0mupdate\u001b[0m\u001b[1;33m(\u001b[0m\u001b[0mx\u001b[0m\u001b[1;33m-\u001b[0m\u001b[1;36m1\u001b[0m\u001b[1;33m,\u001b[0m\u001b[0my\u001b[0m\u001b[1;33m-\u001b[0m\u001b[1;36m1\u001b[0m\u001b[1;33m,\u001b[0m \u001b[0mself\u001b[0m\u001b[1;33m)\u001b[0m\u001b[1;33m\u001b[0m\u001b[1;33m\u001b[0m\u001b[0m\n\u001b[0;32m     32\u001b[0m                 \u001b[1;32mreturn\u001b[0m\u001b[1;33m\u001b[0m\u001b[1;33m\u001b[0m\u001b[0m\n",
      "\u001b[1;31mTypeError\u001b[0m: isSecure() takes 3 positional arguments but 4 were given"
     ]
    }
   ],
   "source": [
    "morpion = Morpion(3)\n",
    "joueur1 = Joueur(\"Joueur 1\", 'X', False)\n",
    "joueur2 = Joueur(\"Ordinateur\",'O', True)\n",
    "players = [joueur1 ,joueur2]\n",
    "play(morpion, players)"
   ]
  }
 ],
 "metadata": {
  "kernelspec": {
   "display_name": "Python 3",
   "language": "python",
   "name": "python3"
  },
  "language_info": {
   "codemirror_mode": {
    "name": "ipython",
    "version": 3
   },
   "file_extension": ".py",
   "mimetype": "text/x-python",
   "name": "python",
   "nbconvert_exporter": "python",
   "pygments_lexer": "ipython3",
   "version": "3.7.6"
  },
  "latex_envs": {
   "LaTeX_envs_menu_present": true,
   "autoclose": false,
   "autocomplete": true,
   "bibliofile": "biblio.bib",
   "cite_by": "apalike",
   "current_citInitial": 1,
   "eqLabelWithNumbers": true,
   "eqNumInitial": 1,
   "hotkeys": {
    "equation": "Ctrl-E",
    "itemize": "Ctrl-I"
   },
   "labels_anchors": false,
   "latex_user_defs": false,
   "report_style_numbering": false,
   "user_envs_cfg": false
  },
  "toc": {
   "base_numbering": 1,
   "nav_menu": {},
   "number_sections": true,
   "sideBar": true,
   "skip_h1_title": false,
   "title_cell": "Table of Contents",
   "title_sidebar": "Contents",
   "toc_cell": false,
   "toc_position": {},
   "toc_section_display": true,
   "toc_window_display": false
  },
  "varInspector": {
   "cols": {
    "lenName": 16,
    "lenType": 16,
    "lenVar": 40
   },
   "kernels_config": {
    "python": {
     "delete_cmd_postfix": "",
     "delete_cmd_prefix": "del ",
     "library": "var_list.py",
     "varRefreshCmd": "print(var_dic_list())"
    },
    "r": {
     "delete_cmd_postfix": ") ",
     "delete_cmd_prefix": "rm(",
     "library": "var_list.r",
     "varRefreshCmd": "cat(var_dic_list()) "
    }
   },
   "types_to_exclude": [
    "module",
    "function",
    "builtin_function_or_method",
    "instance",
    "_Feature"
   ],
   "window_display": false
  }
 },
 "nbformat": 4,
 "nbformat_minor": 4
}
