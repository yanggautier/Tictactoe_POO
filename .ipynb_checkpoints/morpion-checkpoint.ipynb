{
 "cells": [
  {
   "cell_type": "markdown",
   "metadata": {},
   "source": [
    "Le Morpion, également appelé Tic-Tac-Toe se joue sur une grille carrée de 3x3 cases. Deux joueurs, vous et l'ordinateur s'affrontent. Ils doivent remplir chacun à leur tour une case de la grille avec le symbole qui leur est attribué : O ou X.\n",
    "\n",
    "Le gagnant est celui qui arrive à aligner trois symboles identiques, horizontalement, verticalement ou en diagonale."
   ]
  },
  {
   "cell_type": "code",
   "execution_count": 2,
   "metadata": {
    "ExecuteTime": {
     "end_time": "2020-06-12T12:36:22.021439Z",
     "start_time": "2020-06-12T12:36:21.992680Z"
    }
   },
   "outputs": [],
   "source": [
    "import random\n",
    "class Morpion:\n",
    "    def __init__ (self,length):\n",
    "        self.table = [[' ' for _ in range(length) ] for _ in range(length)]\n",
    "        self.h = length\n",
    "        self.w = length\n",
    "    def isSecure(self, x,y):\n",
    "        return (self.h > x>=0) and (self.w > y >=0) and (self.table[x][y] == '')\n",
    "    \n",
    "    def update(self, x, y, player):\n",
    "        if self.isSecure(x,y) == False:\n",
    "            return False\n",
    "        else: \n",
    "            self.table[x][y] == player.label\n",
    "            return True\n",
    "    \n",
    "    def printTable(self):\n",
    "        for ligne in self.table:\n",
    "            print(ligne)\n",
    "        print()\n",
    "                \n",
    "    def isFull(self):\n",
    "        for array in self.table:\n",
    "            if ' ' in array: \n",
    "                return False\n",
    "        return True\n",
    "    \n",
    "    def randomPlay(self, player):\n",
    "        emptyCase = [(x,y) for x in range(self.h) for y in range(self.w) if self.table[x][y] == ' ']\n",
    "        x,y = random.choice(emptyCase)\n",
    "        self.table[x][y] = player.label\n",
    "    \n",
    "    def toPlay(self, player1, player2):\n",
    "        liste_players = [player1, player2]\n",
    "        for player in liste_players:\n",
    "            \n",
    "            for i in range(self.h):\n",
    "                if (self.table[i].count(player.label) == self.h-1) and (' ' in self.table[i]):\n",
    "                    self.table[i][self.table[i].index(' ')] = player1.label\n",
    "                    return\n",
    "\n",
    "            for j in range(self.w):\n",
    "                colonnes = [row[j] for row in self.table]\n",
    "                if (colonnes.count(player.label) == self.h-1) and (' ' in colonnes):\n",
    "                    self.table[colonnes.index(' ')][j] = player1.label\n",
    "                    return\n",
    "\n",
    "            diagonal1 = [self.table[x][y] for x in range(self.h) for y in range(self.w) if x + y == (self.h-1)]\n",
    "            if(diagonal1.count(player.label) == self.h-1) and (' ' in diagonal1):\n",
    "                index = diagonal1.index(' ')\n",
    "                self.table[index][self.h-1-index] = player1.label\n",
    "                return\n",
    "\n",
    "            diagonal2 = [self.table[x][y] for x in range(self.h) for y in range(self.w) if x == y]\n",
    "            if(diagonal2.count(player.label) == self.h-1) and (' ' in diagonal2):\n",
    "                index = diagonal2.index(' ')\n",
    "                self.table[index][index] = player1.label\n",
    "                return\n",
    "        self.randomPlay(player1)\n",
    "        \n",
    "    def isWin(self, joueurs):\n",
    "        for joueur in joueurs:\n",
    "            for i in range(self.h):\n",
    "                if (self.table[i].count(joueur.label) == self.h):\n",
    "                    return joueur\n",
    "                \n",
    "            for j in range(self.w):\n",
    "                if ([row[j] for row in self.table].count(joueur.label) == self.w):\n",
    "                    return joueur\n",
    "                \n",
    "            diagonal1 = [self.table[x][y] for x in range(self.h) for y in range(self.w) if x + y == (self.h-1)]\n",
    "            if(diagonal1.count(joueur.label) == self.h):\n",
    "                return joueur\n",
    "            \n",
    "            diagonal2 = [self.table[x][y] for x in range(self.h) for y in range(self.w) if x == y]\n",
    "            if(diagonal2.count(joueur.label) == self.h):\n",
    "                return joueur\n",
    "            \n",
    "        return None"
   ]
  },
  {
   "cell_type": "code",
   "execution_count": 3,
   "metadata": {
    "ExecuteTime": {
     "end_time": "2020-06-12T12:36:57.539108Z",
     "start_time": "2020-06-12T12:36:57.531119Z"
    }
   },
   "outputs": [],
   "source": [
    "class Joueur:\n",
    "    def __int__ (self, label):\n",
    "        self.label = label\n",
    "    \n",
    "    def inputUser(self, message,morpion):\n",
    "        while True:\n",
    "            try:\n",
    "                userInput = int(input(message))       \n",
    "            except ValueError:\n",
    "                print(\"Veuillez entrer un nombre entre 1 et 3 ! Essayez encore.\")\n",
    "                continue\n",
    "            if ((userInput <=1) & (userInput > morpion.h)) :\n",
    "                print(\"Veuillez entrer un nombre entre 1 et 3 ! Essayez encore.\")\n",
    "                continue\n",
    "            else:\n",
    "                return userInput \n",
    "                break\n",
    "                "
   ]
  },
  {
   "cell_type": "code",
   "execution_count": 265,
   "metadata": {
    "ExecuteTime": {
     "end_time": "2020-06-12T12:30:45.821371Z",
     "start_time": "2020-06-12T12:30:45.814358Z"
    }
   },
   "outputs": [],
   "source": [
    "def play(morpion, players):\n",
    "    while (morpion.isWin(players) is None) or (morpion.isFull() == False):\n",
    "        \n",
    "        liste_players = [[player[0], player[1]],[player[1], player[0]]]\n",
    "        for joueurs in liste_players:\n",
    "            morpion.printTable()\n",
    "            morpion.toPlay(joueurs[0], joueurs[1])\n",
    "            if morpion.isFull():\n",
    "                morpion.printTable()\n",
    "                print('Match null')\n",
    "                return\n",
    "            winner = morpion.isWin(players)\n",
    "            if winner is not None:\n",
    "                morpion.printTable()\n",
    "                print(f'{winner.label}  a gagné')\n",
    "                return"
   ]
  },
  {
   "cell_type": "code",
   "execution_count": null,
   "metadata": {
    "ExecuteTime": {
     "start_time": "2020-06-12T12:42:03.481Z"
    }
   },
   "outputs": [],
   "source": [
    " def inputUser(message):\n",
    "    while True:\n",
    "        try:\n",
    "            x = int(input(message))       \n",
    "        except ValueError:\n",
    "            print(\"Veuillez entrer un nombre entre 1 et 3 ! Essayez encore.\")\n",
    "            continue\n",
    "            \n",
    "        if ((x <=1) & (x >3)) :\n",
    "            print(\"Veuillez entrer un nombre entre 1 et 3 ! Essayez encore.\")\n",
    "            continue\n",
    "        else:\n",
    "            return x\n",
    "            break"
   ]
  },
  {
   "cell_type": "code",
   "execution_count": null,
   "metadata": {
    "ExecuteTime": {
     "start_time": "2020-06-12T12:41:59.026Z"
    }
   },
   "outputs": [],
   "source": [
    "x = inputUser('x')\n",
    "print(x)"
   ]
  },
  {
   "cell_type": "code",
   "execution_count": 264,
   "metadata": {
    "ExecuteTime": {
     "end_time": "2020-06-12T12:30:36.821699Z",
     "start_time": "2020-06-12T12:30:36.812733Z"
    }
   },
   "outputs": [
    {
     "name": "stdout",
     "output_type": "stream",
     "text": [
      "[' ', ' ', ' ']\n",
      "[' ', ' ', ' ']\n",
      "[' ', ' ', ' ']\n",
      "\n",
      "[' ', ' ', ' ']\n",
      "['X', ' ', ' ']\n",
      "[' ', ' ', ' ']\n",
      "\n",
      "[' ', ' ', ' ']\n",
      "['X', ' ', 'O']\n",
      "[' ', ' ', ' ']\n",
      "\n",
      "[' ', ' ', ' ']\n",
      "['X', ' ', 'O']\n",
      "[' ', ' ', 'X']\n",
      "\n",
      "['O', ' ', ' ']\n",
      "['X', ' ', 'O']\n",
      "[' ', ' ', 'X']\n",
      "\n",
      "['O', 'X', ' ']\n",
      "['X', ' ', 'O']\n",
      "[' ', ' ', 'X']\n",
      "\n",
      "['O', 'X', 'O']\n",
      "['X', ' ', 'O']\n",
      "[' ', ' ', 'X']\n",
      "\n",
      "['O', 'X', 'O']\n",
      "['X', ' ', 'O']\n",
      "[' ', 'X', 'X']\n",
      "\n",
      "['O', 'X', 'O']\n",
      "['X', ' ', 'O']\n",
      "['O', 'X', 'X']\n",
      "\n",
      "['O', 'X', 'O']\n",
      "['X', 'X', 'O']\n",
      "['O', 'X', 'X']\n",
      "\n",
      "Match null\n"
     ]
    }
   ],
   "source": [
    "morpion = Morpion(3)\n",
    "joueur1 = Joueur()\n",
    "joueur1.label = 'X'\n",
    "joueur2 = Joueur()\n",
    "joueur2.label = 'O'\n",
    "players = [joueur1 ,joueur2]\n",
    "play(morpion, players)"
   ]
  },
  {
   "cell_type": "code",
   "execution_count": 254,
   "metadata": {
    "ExecuteTime": {
     "end_time": "2020-06-12T11:55:47.727630Z",
     "start_time": "2020-06-12T11:55:47.716659Z"
    }
   },
   "outputs": [
    {
     "ename": "NameError",
     "evalue": "name 'raw_input' is not defined",
     "output_type": "error",
     "traceback": [
      "\u001b[1;31m---------------------------------------------------------------------------\u001b[0m",
      "\u001b[1;31mNameError\u001b[0m                                 Traceback (most recent call last)",
      "\u001b[1;32m<ipython-input-254-e84362ab99c9>\u001b[0m in \u001b[0;36m<module>\u001b[1;34m\u001b[0m\n\u001b[1;32m----> 1\u001b[1;33m \u001b[0ma\u001b[0m \u001b[1;33m=\u001b[0m \u001b[0mraw_input\u001b[0m\u001b[1;33m(\u001b[0m\u001b[1;34m\"Entrez le numéro de la ligne:\"\u001b[0m\u001b[1;33m)\u001b[0m\u001b[1;33m\u001b[0m\u001b[1;33m\u001b[0m\u001b[0m\n\u001b[0m\u001b[0;32m      2\u001b[0m \u001b[0mtype\u001b[0m\u001b[1;33m(\u001b[0m\u001b[0ma\u001b[0m\u001b[1;33m)\u001b[0m\u001b[1;33m\u001b[0m\u001b[1;33m\u001b[0m\u001b[0m\n",
      "\u001b[1;31mNameError\u001b[0m: name 'raw_input' is not defined"
     ]
    }
   ],
   "source": [
    "a = raw_input(\"Entrez le numéro de la ligne:\")\n",
    "type(a)"
   ]
  }
 ],
 "metadata": {
  "kernelspec": {
   "display_name": "Python 3",
   "language": "python",
   "name": "python3"
  },
  "latex_envs": {
   "LaTeX_envs_menu_present": true,
   "autoclose": false,
   "autocomplete": true,
   "bibliofile": "biblio.bib",
   "cite_by": "apalike",
   "current_citInitial": 1,
   "eqLabelWithNumbers": true,
   "eqNumInitial": 1,
   "hotkeys": {
    "equation": "Ctrl-E",
    "itemize": "Ctrl-I"
   },
   "labels_anchors": false,
   "latex_user_defs": false,
   "report_style_numbering": false,
   "user_envs_cfg": false
  },
  "toc": {
   "base_numbering": 1,
   "nav_menu": {},
   "number_sections": true,
   "sideBar": true,
   "skip_h1_title": false,
   "title_cell": "Table of Contents",
   "title_sidebar": "Contents",
   "toc_cell": false,
   "toc_position": {},
   "toc_section_display": true,
   "toc_window_display": false
  },
  "varInspector": {
   "cols": {
    "lenName": 16,
    "lenType": 16,
    "lenVar": 40
   },
   "kernels_config": {
    "python": {
     "delete_cmd_postfix": "",
     "delete_cmd_prefix": "del ",
     "library": "var_list.py",
     "varRefreshCmd": "print(var_dic_list())"
    },
    "r": {
     "delete_cmd_postfix": ") ",
     "delete_cmd_prefix": "rm(",
     "library": "var_list.r",
     "varRefreshCmd": "cat(var_dic_list()) "
    }
   },
   "types_to_exclude": [
    "module",
    "function",
    "builtin_function_or_method",
    "instance",
    "_Feature"
   ],
   "window_display": false
  }
 },
 "nbformat": 4,
 "nbformat_minor": 4
}
